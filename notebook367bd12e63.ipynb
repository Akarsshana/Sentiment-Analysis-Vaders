{
 "cells": [
  {
   "cell_type": "code",
   "execution_count": 1,
   "id": "d08143bc",
   "metadata": {
    "_cell_guid": "b1076dfc-b9ad-4769-8c92-a6c4dae69d19",
    "_uuid": "8f2839f25d086af736a60e9eeb907d3b93b6e0e5",
    "execution": {
     "iopub.execute_input": "2024-06-16T11:55:43.477771Z",
     "iopub.status.busy": "2024-06-16T11:55:43.477301Z",
     "iopub.status.idle": "2024-06-16T11:55:46.958247Z",
     "shell.execute_reply": "2024-06-16T11:55:46.957009Z"
    },
    "papermill": {
     "duration": 3.49105,
     "end_time": "2024-06-16T11:55:46.961305",
     "exception": false,
     "start_time": "2024-06-16T11:55:43.470255",
     "status": "completed"
    },
    "tags": []
   },
   "outputs": [],
   "source": [
    "import pandas as pd \n",
    "import numpy as np\n",
    "import matplotlib.pyplot as plt\n",
    "import seaborn as sns\n",
    "plt.style.use('ggplot')\n",
    "import nltk\n"
   ]
  },
  {
   "cell_type": "code",
   "execution_count": 2,
   "id": "4466fa09",
   "metadata": {
    "_kg_hide-input": false,
    "execution": {
     "iopub.execute_input": "2024-06-16T11:55:46.973189Z",
     "iopub.status.busy": "2024-06-16T11:55:46.972662Z",
     "iopub.status.idle": "2024-06-16T11:55:56.468239Z",
     "shell.execute_reply": "2024-06-16T11:55:56.466885Z"
    },
    "papermill": {
     "duration": 9.504308,
     "end_time": "2024-06-16T11:55:56.470929",
     "exception": false,
     "start_time": "2024-06-16T11:55:46.966621",
     "status": "completed"
    },
    "tags": []
   },
   "outputs": [
    {
     "name": "stdout",
     "output_type": "stream",
     "text": [
      "(250, 10)\n"
     ]
    }
   ],
   "source": [
    "df = pd.read_csv('/kaggle/input/amazon-reviewsss/Reviews.csv/Reviews.csv')\n",
    "df=df.head(250)\n",
    "print(df.shape)"
   ]
  },
  {
   "cell_type": "code",
   "execution_count": 3,
   "id": "a2a8a0f2",
   "metadata": {
    "execution": {
     "iopub.execute_input": "2024-06-16T11:55:56.482032Z",
     "iopub.status.busy": "2024-06-16T11:55:56.481633Z",
     "iopub.status.idle": "2024-06-16T11:55:56.883312Z",
     "shell.execute_reply": "2024-06-16T11:55:56.882095Z"
    },
    "papermill": {
     "duration": 0.410638,
     "end_time": "2024-06-16T11:55:56.886334",
     "exception": false,
     "start_time": "2024-06-16T11:55:56.475696",
     "status": "completed"
    },
    "tags": []
   },
   "outputs": [
    {
     "data": {
      "text/plain": [
       "<Axes: title={'center': 'count'}, xlabel='Score'>"
      ]
     },
     "execution_count": 3,
     "metadata": {},
     "output_type": "execute_result"
    },
    {
     "data": {
      "image/png": "[encoded data removed]",
      "text/plain": [
       "<Figure size 1000x500 with 1 Axes>"
      ]
     },
     "metadata": {},
     "output_type": "display_data"
    }
   ],
   "source": [
    "#eda basic\n",
    "df['Score'].value_counts().sort_index().plot(kind='bar',title='count',figsize=(10,5))"
   ]
  },
  {
   "cell_type": "code",
   "execution_count": 4,
   "id": "9e1b2ba2",
   "metadata": {
    "execution": {
     "iopub.execute_input": "2024-06-16T11:55:56.898877Z",
     "iopub.status.busy": "2024-06-16T11:55:56.898464Z",
     "iopub.status.idle": "2024-06-16T11:55:57.234756Z",
     "shell.execute_reply": "2024-06-16T11:55:57.233511Z"
    },
    "papermill": {
     "duration": 0.345822,
     "end_time": "2024-06-16T11:55:57.237675",
     "exception": false,
     "start_time": "2024-06-16T11:55:56.891853",
     "status": "completed"
    },
    "tags": []
   },
   "outputs": [
    {
     "name": "stdout",
     "output_type": "stream",
     "text": [
      "I got a wild hair for taffy and ordered this five pound bag. The taffy was all very enjoyable with many flavors: watermelon, root beer, melon, peppermint, grape, etc. My only complaint is there was a bit too much red/black licorice-flavored pieces (just not my particular favorites). Between me, my kids, and my husband, this lasted only two weeks! I would recommend this brand of taffy -- it was a delightful treat.\n",
      "(S\n",
      "  I/PRP\n",
      "  got/VBD\n",
      "  a/DT\n",
      "  wild/JJ\n",
      "  hair/NN\n",
      "  for/IN\n",
      "  taffy/NN\n",
      "  and/CC\n",
      "  ordered/VBD\n",
      "  this/DT\n",
      "  five/CD\n",
      "  pound/NN\n",
      "  bag/NN\n",
      "  ./.\n",
      "  The/DT\n",
      "  taffy/NN\n",
      "  was/VBD\n",
      "  all/DT\n",
      "  very/RB\n",
      "  enjoyable/JJ\n",
      "  with/IN\n",
      "  many/JJ\n",
      "  flavors/NNS\n",
      "  :/:\n",
      "  watermelon/NN\n",
      "  ,/,\n",
      "  root/NN\n",
      "  beer/NN\n",
      "  ,/,\n",
      "  melon/NN\n",
      "  ,/,\n",
      "  peppermint/NN\n",
      "  ,/,\n",
      "  grape/NN\n",
      "  ,/,\n",
      "  etc/FW\n",
      "  ./.\n",
      "  My/PRP$\n",
      "  only/JJ\n",
      "  complaint/NN\n",
      "  is/VBZ\n",
      "  there/EX\n",
      "  was/VBD\n",
      "  a/DT\n",
      "  bit/NN\n",
      "  too/RB\n",
      "  much/JJ\n",
      "  red/black/NN\n",
      "  licorice-flavored/JJ\n",
      "  pieces/NNS\n",
      "  (/(\n",
      "  just/RB\n",
      "  not/RB\n",
      "  my/PRP$\n",
      "  particular/JJ\n",
      "  favorites/NNS\n",
      "  )/)\n",
      "  ./.\n",
      "  Between/IN\n",
      "  me/PRP\n",
      "  ,/,\n",
      "  my/PRP$\n",
      "  kids/NNS\n",
      "  ,/,\n",
      "  and/CC\n",
      "  my/PRP$\n",
      "  husband/NN\n",
      "  ,/,\n",
      "  this/DT\n",
      "  lasted/VBN\n",
      "  only/RB\n",
      "  two/CD\n",
      "  weeks/NNS\n",
      "  !/.\n",
      "  I/PRP\n",
      "  would/MD\n",
      "  recommend/VB\n",
      "  this/DT\n",
      "  brand/NN\n",
      "  of/IN\n",
      "  taffy/NN\n",
      "  --/:\n",
      "  it/PRP\n",
      "  was/VBD\n",
      "  a/DT\n",
      "  delightful/JJ\n",
      "  treat/NN\n",
      "  ./.)\n"
     ]
    }
   ],
   "source": [
    "#Basic nltk setup\n",
    "ex=df['Text'][5]\n",
    "print(ex)\n",
    "tokens=nltk.word_tokenize(ex)\n",
    "tokens[:10]\n",
    "tagged=nltk.pos_tag(tokens)\n",
    "tagged[:10]\n",
    "entities=nltk.chunk.ne_chunk(tagged)\n",
    "entities.pprint()"
   ]
  },
  {
   "cell_type": "code",
   "execution_count": 5,
   "id": "afa20de6",
   "metadata": {
    "execution": {
     "iopub.execute_input": "2024-06-16T11:55:57.250627Z",
     "iopub.status.busy": "2024-06-16T11:55:57.250177Z",
     "iopub.status.idle": "2024-06-16T11:55:57.292846Z",
     "shell.execute_reply": "2024-06-16T11:55:57.291784Z"
    },
    "papermill": {
     "duration": 0.052494,
     "end_time": "2024-06-16T11:55:57.295706",
     "exception": false,
     "start_time": "2024-06-16T11:55:57.243212",
     "status": "completed"
    },
    "tags": []
   },
   "outputs": [
    {
     "name": "stderr",
     "output_type": "stream",
     "text": [
      "/opt/conda/lib/python3.10/site-packages/nltk/twitter/__init__.py:20: UserWarning: The twython library has not been installed. Some functionality from the twitter package will not be available.\n",
      "  warnings.warn(\"The twython library has not been installed. \"\n"
     ]
    }
   ],
   "source": [
    "#VADER Seniment Scoring\n",
    "from nltk.sentiment import SentimentIntensityAnalyzer\n",
    "from tqdm.notebook import tqdm\n",
    "sia=SentimentIntensityAnalyzer()\n"
   ]
  },
  {
   "cell_type": "code",
   "execution_count": 6,
   "id": "a2e52eb7",
   "metadata": {
    "execution": {
     "iopub.execute_input": "2024-06-16T11:55:57.308672Z",
     "iopub.status.busy": "2024-06-16T11:55:57.308260Z",
     "iopub.status.idle": "2024-06-16T11:55:57.324739Z",
     "shell.execute_reply": "2024-06-16T11:55:57.323544Z"
    },
    "papermill": {
     "duration": 0.025978,
     "end_time": "2024-06-16T11:55:57.327414",
     "exception": false,
     "start_time": "2024-06-16T11:55:57.301436",
     "status": "completed"
    },
    "tags": []
   },
   "outputs": [],
   "source": [
    "#VADER Seniment Scoring\n",
    "from nltk.sentiment import SentimentIntensityAnalyzer\n",
    "from tqdm.notebook import tqdm\n",
    "sia=SentimentIntensityAnalyzer()"
   ]
  },
  {
   "cell_type": "code",
   "execution_count": 7,
   "id": "38a2fd59",
   "metadata": {
    "execution": {
     "iopub.execute_input": "2024-06-16T11:55:57.340243Z",
     "iopub.status.busy": "2024-06-16T11:55:57.339834Z",
     "iopub.status.idle": "2024-06-16T11:55:57.699945Z",
     "shell.execute_reply": "2024-06-16T11:55:57.698838Z"
    },
    "papermill": {
     "duration": 0.369384,
     "end_time": "2024-06-16T11:55:57.702382",
     "exception": false,
     "start_time": "2024-06-16T11:55:57.332998",
     "status": "completed"
    },
    "tags": []
   },
   "outputs": [
    {
     "data": {
      "application/vnd.jupyter.widget-view+json": {
       "model_id": "a737095a43954f2893f741fbd06b57c0",
       "version_major": 2,
       "version_minor": 0
      },
      "text/plain": [
       "  0%|          | 0/250 [00:00<?, ?it/s]"
      ]
     },
     "metadata": {},
     "output_type": "display_data"
    }
   ],
   "source": [
    "res = {}\n",
    "for i, row in tqdm(df.iterrows(), total=len(df)):\n",
    "    text = row['Text']\n",
    "    myid = row['Id']\n",
    "    res[myid] = sia.polarity_scores(text)"
   ]
  },
  {
   "cell_type": "code",
   "execution_count": 8,
   "id": "ea276391",
   "metadata": {
    "execution": {
     "iopub.execute_input": "2024-06-16T11:55:57.715981Z",
     "iopub.status.busy": "2024-06-16T11:55:57.715505Z",
     "iopub.status.idle": "2024-06-16T11:55:57.740647Z",
     "shell.execute_reply": "2024-06-16T11:55:57.739392Z"
    },
    "papermill": {
     "duration": 0.035117,
     "end_time": "2024-06-16T11:55:57.743376",
     "exception": false,
     "start_time": "2024-06-16T11:55:57.708259",
     "status": "completed"
    },
    "tags": []
   },
   "outputs": [],
   "source": [
    "vaders = pd.DataFrame(res).T\n",
    "vaders = vaders.reset_index().rename(columns={'index': 'Id'})\n",
    "vaders = vaders.merge(df, how='left')"
   ]
  },
  {
   "cell_type": "code",
   "execution_count": 9,
   "id": "389b649e",
   "metadata": {
    "execution": {
     "iopub.execute_input": "2024-06-16T11:55:57.757239Z",
     "iopub.status.busy": "2024-06-16T11:55:57.756839Z",
     "iopub.status.idle": "2024-06-16T11:55:57.779618Z",
     "shell.execute_reply": "2024-06-16T11:55:57.778557Z"
    },
    "papermill": {
     "duration": 0.033072,
     "end_time": "2024-06-16T11:55:57.782617",
     "exception": false,
     "start_time": "2024-06-16T11:55:57.749545",
     "status": "completed"
    },
    "tags": []
   },
   "outputs": [
    {
     "data": {
      "text/html": [
       "<div>\n",
       "<style scoped>\n",
       "    .dataframe tbody tr th:only-of-type {\n",
       "        vertical-align: middle;\n",
       "    }\n",
       "\n",
       "    .dataframe tbody tr th {\n",
       "        vertical-align: top;\n",
       "    }\n",
       "\n",
       "    .dataframe thead th {\n",
       "        text-align: right;\n",
       "    }\n",
       "</style>\n",
       "<table border=\"1\" class=\"dataframe\">\n",
       "  <thead>\n",
       "    <tr style=\"text-align: right;\">\n",
       "      <th></th>\n",
       "      <th>Id</th>\n",
       "      <th>neg</th>\n",
       "      <th>neu</th>\n",
       "      <th>pos</th>\n",
       "      <th>compound</th>\n",
       "      <th>ProductId</th>\n",
       "      <th>UserId</th>\n",
       "      <th>ProfileName</th>\n",
       "      <th>HelpfulnessNumerator</th>\n",
       "      <th>HelpfulnessDenominator</th>\n",
       "      <th>Score</th>\n",
       "      <th>Time</th>\n",
       "      <th>Summary</th>\n",
       "      <th>Text</th>\n",
       "    </tr>\n",
       "  </thead>\n",
       "  <tbody>\n",
       "    <tr>\n",
       "      <th>0</th>\n",
       "      <td>1</td>\n",
       "      <td>0.000</td>\n",
       "      <td>0.695</td>\n",
       "      <td>0.305</td>\n",
       "      <td>0.9441</td>\n",
       "      <td>B001E4KFG0</td>\n",
       "      <td>A3SGXH7AUHU8GW</td>\n",
       "      <td>delmartian</td>\n",
       "      <td>1</td>\n",
       "      <td>1</td>\n",
       "      <td>5</td>\n",
       "      <td>1303862400</td>\n",
       "      <td>Good Quality Dog Food</td>\n",
       "      <td>I have bought several of the Vitality canned d...</td>\n",
       "    </tr>\n",
       "    <tr>\n",
       "      <th>1</th>\n",
       "      <td>2</td>\n",
       "      <td>0.079</td>\n",
       "      <td>0.853</td>\n",
       "      <td>0.068</td>\n",
       "      <td>-0.1027</td>\n",
       "      <td>B00813GRG4</td>\n",
       "      <td>A1D87F6ZCVE5NK</td>\n",
       "      <td>dll pa</td>\n",
       "      <td>0</td>\n",
       "      <td>0</td>\n",
       "      <td>1</td>\n",
       "      <td>1346976000</td>\n",
       "      <td>Not as Advertised</td>\n",
       "      <td>Product arrived labeled as Jumbo Salted Peanut...</td>\n",
       "    </tr>\n",
       "    <tr>\n",
       "      <th>2</th>\n",
       "      <td>3</td>\n",
       "      <td>0.091</td>\n",
       "      <td>0.754</td>\n",
       "      <td>0.155</td>\n",
       "      <td>0.8265</td>\n",
       "      <td>B000LQOCH0</td>\n",
       "      <td>ABXLMWJIXXAIN</td>\n",
       "      <td>Natalia Corres \"Natalia Corres\"</td>\n",
       "      <td>1</td>\n",
       "      <td>1</td>\n",
       "      <td>4</td>\n",
       "      <td>1219017600</td>\n",
       "      <td>\"Delight\" says it all</td>\n",
       "      <td>This is a confection that has been around a fe...</td>\n",
       "    </tr>\n",
       "    <tr>\n",
       "      <th>3</th>\n",
       "      <td>4</td>\n",
       "      <td>0.000</td>\n",
       "      <td>1.000</td>\n",
       "      <td>0.000</td>\n",
       "      <td>0.0000</td>\n",
       "      <td>B000UA0QIQ</td>\n",
       "      <td>A395BORC6FGVXV</td>\n",
       "      <td>Karl</td>\n",
       "      <td>3</td>\n",
       "      <td>3</td>\n",
       "      <td>2</td>\n",
       "      <td>1307923200</td>\n",
       "      <td>Cough Medicine</td>\n",
       "      <td>If you are looking for the secret ingredient i...</td>\n",
       "    </tr>\n",
       "    <tr>\n",
       "      <th>4</th>\n",
       "      <td>5</td>\n",
       "      <td>0.000</td>\n",
       "      <td>0.552</td>\n",
       "      <td>0.448</td>\n",
       "      <td>0.9468</td>\n",
       "      <td>B006K2ZZ7K</td>\n",
       "      <td>A1UQRSCLF8GW1T</td>\n",
       "      <td>Michael D. Bigham \"M. Wassir\"</td>\n",
       "      <td>0</td>\n",
       "      <td>0</td>\n",
       "      <td>5</td>\n",
       "      <td>1350777600</td>\n",
       "      <td>Great taffy</td>\n",
       "      <td>Great taffy at a great price.  There was a wid...</td>\n",
       "    </tr>\n",
       "  </tbody>\n",
       "</table>\n",
       "</div>"
      ],
      "text/plain": [
       "   Id    neg    neu    pos  compound   ProductId          UserId  \\\n",
       "0   1  0.000  0.695  0.305    0.9441  B001E4KFG0  A3SGXH7AUHU8GW   \n",
       "1   2  0.079  0.853  0.068   -0.1027  B00813GRG4  A1D87F6ZCVE5NK   \n",
       "2   3  0.091  0.754  0.155    0.8265  B000LQOCH0   ABXLMWJIXXAIN   \n",
       "3   4  0.000  1.000  0.000    0.0000  B000UA0QIQ  A395BORC6FGVXV   \n",
       "4   5  0.000  0.552  0.448    0.9468  B006K2ZZ7K  A1UQRSCLF8GW1T   \n",
       "\n",
       "                       ProfileName  HelpfulnessNumerator  \\\n",
       "0                       delmartian                     1   \n",
       "1                           dll pa                     0   \n",
       "2  Natalia Corres \"Natalia Corres\"                     1   \n",
       "3                             Karl                     3   \n",
       "4    Michael D. Bigham \"M. Wassir\"                     0   \n",
       "\n",
       "   HelpfulnessDenominator  Score        Time                Summary  \\\n",
       "0                       1      5  1303862400  Good Quality Dog Food   \n",
       "1                       0      1  1346976000      Not as Advertised   \n",
       "2                       1      4  1219017600  \"Delight\" says it all   \n",
       "3                       3      2  1307923200         Cough Medicine   \n",
       "4                       0      5  1350777600            Great taffy   \n",
       "\n",
       "                                                Text  \n",
       "0  I have bought several of the Vitality canned d...  \n",
       "1  Product arrived labeled as Jumbo Salted Peanut...  \n",
       "2  This is a confection that has been around a fe...  \n",
       "3  If you are looking for the secret ingredient i...  \n",
       "4  Great taffy at a great price.  There was a wid...  "
      ]
     },
     "execution_count": 9,
     "metadata": {},
     "output_type": "execute_result"
    }
   ],
   "source": [
    "vaders.head()"
   ]
  },
  {
   "cell_type": "code",
   "execution_count": 10,
   "id": "c0617b01",
   "metadata": {
    "execution": {
     "iopub.execute_input": "2024-06-16T11:55:57.796804Z",
     "iopub.status.busy": "2024-06-16T11:55:57.796387Z",
     "iopub.status.idle": "2024-06-16T11:55:58.172564Z",
     "shell.execute_reply": "2024-06-16T11:55:58.171409Z"
    },
    "papermill": {
     "duration": 0.386126,
     "end_time": "2024-06-16T11:55:58.175080",
     "exception": false,
     "start_time": "2024-06-16T11:55:57.788954",
     "status": "completed"
    },
    "tags": []
   },
   "outputs": [
    {
     "data": {
      "image/png": "[encoded data removed]",
      "text/plain": [
       "<Figure size 640x480 with 1 Axes>"
      ]
     },
     "metadata": {},
     "output_type": "display_data"
    }
   ],
   "source": [
    "ax=sns.barplot(data=vaders,x='Score',y='compound')\n",
    "ax.set_title('compound score')\n",
    "plt.show()\n"
   ]
  },
  {
   "cell_type": "code",
   "execution_count": 11,
   "id": "3953e516",
   "metadata": {
    "execution": {
     "iopub.execute_input": "2024-06-16T11:55:58.190334Z",
     "iopub.status.busy": "2024-06-16T11:55:58.189927Z",
     "iopub.status.idle": "2024-06-16T11:55:59.300381Z",
     "shell.execute_reply": "2024-06-16T11:55:59.299221Z"
    },
    "papermill": {
     "duration": 1.12126,
     "end_time": "2024-06-16T11:55:59.302994",
     "exception": false,
     "start_time": "2024-06-16T11:55:58.181734",
     "status": "completed"
    },
    "tags": []
   },
   "outputs": [
    {
     "data": {
      "image/png": "[encoded data removed]",
      "text/plain": [
       "<Figure size 1200x300 with 3 Axes>"
      ]
     },
     "metadata": {},
     "output_type": "display_data"
    }
   ],
   "source": [
    "fig,axs=plt.subplots(1,3,figsize=(12,3))\n",
    "sns.barplot(data=vaders,x='Score',y='pos',ax=axs[0])\n",
    "sns.barplot(data=vaders,x='Score',y='neu',ax=axs[1])\n",
    "sns.barplot(data=vaders,x='Score',y='neg',ax=axs[2])\n",
    "axs[0].set_title('positive')\n",
    "axs[1].set_title('neutral')\n",
    "axs[2].set_title('negative')\n",
    "plt.tight_layout()\n",
    "plt.show()"
   ]
  }
 ],
 "metadata": {
  "kaggle": {
   "accelerator": "none",
   "dataSources": [
    {
     "datasetId": 5220389,
     "sourceId": 8703686,
     "sourceType": "datasetVersion"
    }
   ],
   "dockerImageVersionId": 30732,
   "isGpuEnabled": false,
   "isInternetEnabled": false,
   "language": "python",
   "sourceType": "notebook"
  },
  "kernelspec": {
   "display_name": "Python 3",
   "language": "python",
   "name": "python3"
  },
  "language_info": {
   "codemirror_mode": {
    "name": "ipython",
    "version": 3
   },
   "file_extension": ".py",
   "mimetype": "text/x-python",
   "name": "python",
   "nbconvert_exporter": "python",
   "pygments_lexer": "ipython3",
   "version": "3.10.13"
  },
  "papermill": {
   "default_parameters": {},
   "duration": 19.867169,
   "end_time": "2024-06-16T11:56:00.132930",
   "environment_variables": {},
   "exception": null,
   "input_path": "__notebook__.ipynb",
   "output_path": "__notebook__.ipynb",
   "parameters": {},
   "start_time": "2024-06-16T11:55:40.265761",
   "version": "2.5.0"
  },
  "widgets": {
   "application/vnd.jupyter.widget-state+json": {
    "state": {
     "03125b64061441ec9b9a8b1fec1348dd": {
      "model_module": "@jupyter-widgets/controls",
      "model_module_version": "1.5.0",
      "model_name": "DescriptionStyleModel",
      "state": {
       "_model_module": "@jupyter-widgets/controls",
       "_model_module_version": "1.5.0",
       "_model_name": "DescriptionStyleModel",
       "_view_count": null,
       "_view_module": "@jupyter-widgets/base",
       "_view_module_version": "1.2.0",
       "_view_name": "StyleView",
       "description_width": ""
      }
     },
     "0468859556eb45e287b9ad56750b67cb": {
      "model_module": "@jupyter-widgets/controls",
      "model_module_version": "1.5.0",
      "model_name": "FloatProgressModel",
      "state": {
       "_dom_classes": [],
       "_model_module": "@jupyter-widgets/controls",
       "_model_module_version": "1.5.0",
       "_model_name": "FloatProgressModel",
       "_view_count": null,
       "_view_module": "@jupyter-widgets/controls",
       "_view_module_version": "1.5.0",
       "_view_name": "ProgressView",
       "bar_style": "success",
       "description": "",
       "description_tooltip": null,
       "layout": "IPY_MODEL_9c536cd2bf91423984cfb816fba59789",
       "max": 250.0,
       "min": 0.0,
       "orientation": "horizontal",
       "style": "IPY_MODEL_68a0fc59d85d49bf8e844567535f8dd5",
       "value": 250.0
      }
     },
     "4ae0892a5d5a40b380733f968af737a9": {
      "model_module": "@jupyter-widgets/controls",
      "model_module_version": "1.5.0",
      "model_name": "HTMLModel",
      "state": {
       "_dom_classes": [],
       "_model_module": "@jupyter-widgets/controls",
       "_model_module_version": "1.5.0",
       "_model_name": "HTMLModel",
       "_view_count": null,
       "_view_module": "@jupyter-widgets/controls",
       "_view_module_version": "1.5.0",
       "_view_name": "HTMLView",
       "description": "",
       "description_tooltip": null,
       "layout": "IPY_MODEL_5f28ec21671742f6bf1d194357a98680",
       "placeholder": "​",
       "style": "IPY_MODEL_03125b64061441ec9b9a8b1fec1348dd",
       "value": "100%"
      }
     },
     "5f28ec21671742f6bf1d194357a98680": {
      "model_module": "@jupyter-widgets/base",
      "model_module_version": "1.2.0",
      "model_name": "LayoutModel",
      "state": {
       "_model_module": "@jupyter-widgets/base",
       "_model_module_version": "1.2.0",
       "_model_name": "LayoutModel",
       "_view_count": null,
       "_view_module": "@jupyter-widgets/base",
       "_view_module_version": "1.2.0",
       "_view_name": "LayoutView",
       "align_content": null,
       "align_items": null,
       "align_self": null,
       "border": null,
       "bottom": null,
       "display": null,
       "flex": null,
       "flex_flow": null,
       "grid_area": null,
       "grid_auto_columns": null,
       "grid_auto_flow": null,
       "grid_auto_rows": null,
       "grid_column": null,
       "grid_gap": null,
       "grid_row": null,
       "grid_template_areas": null,
       "grid_template_columns": null,
       "grid_template_rows": null,
       "height": null,
       "justify_content": null,
       "justify_items": null,
       "left": null,
       "margin": null,
       "max_height": null,
       "max_width": null,
       "min_height": null,
       "min_width": null,
       "object_fit": null,
       "object_position": null,
       "order": null,
       "overflow": null,
       "overflow_x": null,
       "overflow_y": null,
       "padding": null,
       "right": null,
       "top": null,
       "visibility": null,
       "width": null
      }
     },
     "68a0fc59d85d49bf8e844567535f8dd5": {
      "model_module": "@jupyter-widgets/controls",
      "model_module_version": "1.5.0",
      "model_name": "ProgressStyleModel",
      "state": {
       "_model_module": "@jupyter-widgets/controls",
       "_model_module_version": "1.5.0",
       "_model_name": "ProgressStyleModel",
       "_view_count": null,
       "_view_module": "@jupyter-widgets/base",
       "_view_module_version": "1.2.0",
       "_view_name": "StyleView",
       "bar_color": null,
       "description_width": ""
      }
     },
     "7ed5e47f06184352aea6fab38adfa6cf": {
      "model_module": "@jupyter-widgets/controls",
      "model_module_version": "1.5.0",
      "model_name": "HTMLModel",
      "state": {
       "_dom_classes": [],
       "_model_module": "@jupyter-widgets/controls",
       "_model_module_version": "1.5.0",
       "_model_name": "HTMLModel",
       "_view_count": null,
       "_view_module": "@jupyter-widgets/controls",
       "_view_module_version": "1.5.0",
       "_view_name": "HTMLView",
       "description": "",
       "description_tooltip": null,
       "layout": "IPY_MODEL_c85cdad29a7e4c2190093fee67cde506",
       "placeholder": "​",
       "style": "IPY_MODEL_9f1d2895a91f4887a06d006a6a5ccab9",
       "value": " 250/250 [00:00&lt;00:00, 721.40it/s]"
      }
     },
     "9c536cd2bf91423984cfb816fba59789": {
      "model_module": "@jupyter-widgets/base",
      "model_module_version": "1.2.0",
      "model_name": "LayoutModel",
      "state": {
       "_model_module": "@jupyter-widgets/base",
       "_model_module_version": "1.2.0",
       "_model_name": "LayoutModel",
       "_view_count": null,
       "_view_module": "@jupyter-widgets/base",
       "_view_module_version": "1.2.0",
       "_view_name": "LayoutView",
       "align_content": null,
       "align_items": null,
       "align_self": null,
       "border": null,
       "bottom": null,
       "display": null,
       "flex": null,
       "flex_flow": null,
       "grid_area": null,
       "grid_auto_columns": null,
       "grid_auto_flow": null,
       "grid_auto_rows": null,
       "grid_column": null,
       "grid_gap": null,
       "grid_row": null,
       "grid_template_areas": null,
       "grid_template_columns": null,
       "grid_template_rows": null,
       "height": null,
       "justify_content": null,
       "justify_items": null,
       "left": null,
       "margin": null,
       "max_height": null,
       "max_width": null,
       "min_height": null,
       "min_width": null,
       "object_fit": null,
       "object_position": null,
       "order": null,
       "overflow": null,
       "overflow_x": null,
       "overflow_y": null,
       "padding": null,
       "right": null,
       "top": null,
       "visibility": null,
       "width": null
      }
     },
     "9f1d2895a91f4887a06d006a6a5ccab9": {
      "model_module": "@jupyter-widgets/controls",
      "model_module_version": "1.5.0",
      "model_name": "DescriptionStyleModel",
      "state": {
       "_model_module": "@jupyter-widgets/controls",
       "_model_module_version": "1.5.0",
       "_model_name": "DescriptionStyleModel",
       "_view_count": null,
       "_view_module": "@jupyter-widgets/base",
       "_view_module_version": "1.2.0",
       "_view_name": "StyleView",
       "description_width": ""
      }
     },
     "a737095a43954f2893f741fbd06b57c0": {
      "model_module": "@jupyter-widgets/controls",
      "model_module_version": "1.5.0",
      "model_name": "HBoxModel",
      "state": {
       "_dom_classes": [],
       "_model_module": "@jupyter-widgets/controls",
       "_model_module_version": "1.5.0",
       "_model_name": "HBoxModel",
       "_view_count": null,
       "_view_module": "@jupyter-widgets/controls",
       "_view_module_version": "1.5.0",
       "_view_name": "HBoxView",
       "box_style": "",
       "children": [
        "IPY_MODEL_4ae0892a5d5a40b380733f968af737a9",
        "IPY_MODEL_0468859556eb45e287b9ad56750b67cb",
        "IPY_MODEL_7ed5e47f06184352aea6fab38adfa6cf"
       ],
       "layout": "IPY_MODEL_e553b461b05a4007aa73dd4bb018bef0"
      }
     },
     "c85cdad29a7e4c2190093fee67cde506": {
      "model_module": "@jupyter-widgets/base",
      "model_module_version": "1.2.0",
      "model_name": "LayoutModel",
      "state": {
       "_model_module": "@jupyter-widgets/base",
       "_model_module_version": "1.2.0",
       "_model_name": "LayoutModel",
       "_view_count": null,
       "_view_module": "@jupyter-widgets/base",
       "_view_module_version": "1.2.0",
       "_view_name": "LayoutView",
       "align_content": null,
       "align_items": null,
       "align_self": null,
       "border": null,
       "bottom": null,
       "display": null,
       "flex": null,
       "flex_flow": null,
       "grid_area": null,
       "grid_auto_columns": null,
       "grid_auto_flow": null,
       "grid_auto_rows": null,
       "grid_column": null,
       "grid_gap": null,
       "grid_row": null,
       "grid_template_areas": null,
       "grid_template_columns": null,
       "grid_template_rows": null,
       "height": null,
       "justify_content": null,
       "justify_items": null,
       "left": null,
       "margin": null,
       "max_height": null,
       "max_width": null,
       "min_height": null,
       "min_width": null,
       "object_fit": null,
       "object_position": null,
       "order": null,
       "overflow": null,
       "overflow_x": null,
       "overflow_y": null,
       "padding": null,
       "right": null,
       "top": null,
       "visibility": null,
       "width": null
      }
     },
     "e553b461b05a4007aa73dd4bb018bef0": {
      "model_module": "@jupyter-widgets/base",
      "model_module_version": "1.2.0",
      "model_name": "LayoutModel",
      "state": {
       "_model_module": "@jupyter-widgets/base",
       "_model_module_version": "1.2.0",
       "_model_name": "LayoutModel",
       "_view_count": null,
       "_view_module": "@jupyter-widgets/base",
       "_view_module_version": "1.2.0",
       "_view_name": "LayoutView",
       "align_content": null,
       "align_items": null,
       "align_self": null,
       "border": null,
       "bottom": null,
       "display": null,
       "flex": null,
       "flex_flow": null,
       "grid_area": null,
       "grid_auto_columns": null,
       "grid_auto_flow": null,
       "grid_auto_rows": null,
       "grid_column": null,
       "grid_gap": null,
       "grid_row": null,
       "grid_template_areas": null,
       "grid_template_columns": null,
       "grid_template_rows": null,
       "height": null,
       "justify_content": null,
       "justify_items": null,
       "left": null,
       "margin": null,
       "max_height": null,
       "max_width": null,
       "min_height": null,
       "min_width": null,
       "object_fit": null,
       "object_position": null,
       "order": null,
       "overflow": null,
       "overflow_x": null,
       "overflow_y": null,
       "padding": null,
       "right": null,
       "top": null,
       "visibility": null,
       "width": null
      }
     }
    },
    "version_major": 2,
    "version_minor": 0
   }
  }
 },
 "nbformat": 4,
 "nbformat_minor": 5
}
